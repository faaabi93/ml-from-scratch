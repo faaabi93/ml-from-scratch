{
  "nbformat": 4,
  "nbformat_minor": 0,
  "metadata": {
    "colab": {
      "name": "Logistic_Regression.ipynb",
      "provenance": [],
      "authorship_tag": "ABX9TyNk4WbgqsB0YwtqXwYDHTA4",
      "include_colab_link": true
    },
    "kernelspec": {
      "name": "python3",
      "display_name": "Python 3"
    }
  },
  "cells": [
    {
      "cell_type": "markdown",
      "metadata": {
        "id": "view-in-github",
        "colab_type": "text"
      },
      "source": [
        "<a href=\"https://colab.research.google.com/github/faaabi93/ml-from-scratch/blob/master/Logistic_Regression.ipynb\" target=\"_parent\"><img src=\"https://colab.research.google.com/assets/colab-badge.svg\" alt=\"Open In Colab\"/></a>"
      ]
    },
    {
      "cell_type": "markdown",
      "metadata": {
        "id": "xMIrrYs_Cwze",
        "colab_type": "text"
      },
      "source": [
        "# Logistic Regression\n",
        "\n",
        "## Log-Odds\n",
        "\n",
        "In Linear Regression the coefficients of the features are multiplied by their respective feature values and then the intercept is added.  \n",
        "In Logistic Regression the same multiplication (of the feature coefficients and feature values) is made and the intercept is added. But instead of the prediction, one gets the log-odds.  \n",
        "\n",
        "The Log-Odds are another way of expressing the probability of a sample belonging to the *positive* class.  \n",
        "  \n",
        "$Odds = \\frac{P(event)}{P(not event)}$\n",
        "\n",
        "The odds tell us how many more times likely an event is to occure than not occure.\n",
        "E.g. a student will pass an exam with the probability of 0.7, they will fail with a probability of $1 - 0.7 = 3$.\n",
        "\n",
        "$Odds\\,of\\,passing = \\frac{0.7}{0.3} = 2.\\overline{3}$\n",
        "\n",
        "\n",
        "The log odds are then understood as the logarithm of the odds.\n",
        "\n",
        "$Log\\,odds\\,of\\,passing = \\log(2.\\overline{3}) = 0.847$\n",
        "\n",
        "For the Logistic Regression model the log-odds (z below) are calculated by summing the product of each feature value by its respective coefficient and adding the intercept. This allows us to map our feature values to a measure of how likely it is that a data sample belogngs to the positive class.\n",
        "\n",
        "$z = b_0 + b_1x_1 + ... + b_nx_n$\n",
        "\n",
        "$b_0$ is the intercept.\n",
        "$b_1$, $b_2$, ...  $b_n$ are the coefficients of the features $x_1$, $x_2$, ... $x_n$.\n",
        "\n",
        "Which is a *dot product*. This can be performed using numpy's `np.dot()` method. \n",
        "If we have the feature matrix `features`, coefficient vector `coefficients`, and an `intercept`, we can calculate the log-odds in numpy:\n",
        "\n",
        "```\n",
        "log_odds = np.dot(features, coefficients) + intercept\n",
        "```\n",
        "\n",
        "### Creating a log_odds function"
      ]
    },
    {
      "cell_type": "code",
      "metadata": {
        "id": "k9rSXZqsCjiJ",
        "colab_type": "code",
        "colab": {}
      },
      "source": [
        "import numpy as np\n",
        "\n",
        "def log_odds(features, coefficients, intercept):\n",
        "  return np.dot(features, coefficients) + intercept"
      ],
      "execution_count": 0,
      "outputs": []
    },
    {
      "cell_type": "markdown",
      "metadata": {
        "id": "LytAoQHSG_tl",
        "colab_type": "text"
      },
      "source": [
        "## Sigmoid Function\n",
        "\n",
        "To create the S-shaped curve we need the [Sigmoid Function](https://de.wikipedia.org/wiki/Sigmoidfunktion).\n",
        "\n",
        "This function is a special case of the more genereal logistic function.\n",
        "By plugging the log-odds into the Sigmoid Function, we map the log-odds `z` to the range `[0, 1]`.\n",
        "\n",
        "$h(z) = \\frac{1}{1 + e^-z}$\n",
        "\n",
        "`e^(-z)` is the expon. function. It can be called with `np.exp(-z)`.\n",
        "\n"
      ]
    },
    {
      "cell_type": "code",
      "metadata": {
        "id": "rrm_5ebdIREs",
        "colab_type": "code",
        "colab": {}
      },
      "source": [
        "def sigmoid(z):\n",
        "  return 1/(1+ np.exp(-z))"
      ],
      "execution_count": 0,
      "outputs": []
    },
    {
      "cell_type": "markdown",
      "metadata": {
        "id": "xeiCl8gQL0ko",
        "colab_type": "text"
      },
      "source": [
        ""
      ]
    },
    {
      "cell_type": "markdown",
      "metadata": {
        "id": "jZGC4Yw6QXoQ",
        "colab_type": "text"
      },
      "source": [
        "## Log Loss \n",
        "\n",
        "$-\\frac{1}{m}\\displaystyle\\sum_{i=1}^{m} y^(i) \\log{h(z^{(i)}))} + (1-y^{(i)}) \\log{(1 - h(z^{(i)})}$ \n",
        "\n",
        "\n",
        "\n",
        "*   `m` is the total number of data samples\n",
        "*   `y_i` is the class of data sample `i`\n",
        "*   `z_i` is the log-odds of sample `i`\n",
        "*   `h(z_i)` is the sigmoid of the log-odds of sample `i`, which is the probability of sample `i` belonging to the positive class\n",
        "\n",
        "In Python it looks like this:"
      ]
    },
    {
      "cell_type": "code",
      "metadata": {
        "id": "rGr8GHA7SZbP",
        "colab_type": "code",
        "colab": {}
      },
      "source": [
        "def log_loss(probabilities,actual_class):\n",
        "  return np.sum(-(1/actual_class.shape[0])*(actual_class*np.log(probabilities) + (1-actual_class)*np.log(1-probabilities)))"
      ],
      "execution_count": 0,
      "outputs": []
    },
    {
      "cell_type": "markdown",
      "metadata": {
        "id": "uNkqdNvGSl12",
        "colab_type": "text"
      },
      "source": [
        "## Classification Thresholding\n",
        "\n",
        "We need a threshold for making a desicion.\n",
        "The default threshold for many algorithms is `0.5`. If the predicted probability is higher than the threshold, the classification of the sample is the positiv class.\n",
        "\n",
        "But the threshold need to be interchangeable to suffice specific needs and use-cases for the model."
      ]
    },
    {
      "cell_type": "code",
      "metadata": {
        "id": "dRy-99mtS_23",
        "colab_type": "code",
        "colab": {}
      },
      "source": [
        "def predict_class(features, coefficients, intercept, threshold):\n",
        "  calculated_log_odds = log_odds(features, coefficients, intercept)\n",
        "  probabilities = sigmoid(calculated_log_odds)\n",
        "  return np.where(probabilities >= threshold, 1, 0)"
      ],
      "execution_count": 0,
      "outputs": []
    }
  ]
}