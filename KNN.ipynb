{
 "cells": [
  {
   "cell_type": "markdown",
   "metadata": {},
   "source": [
    "# K-Nearest Neighbor from Scratch"
   ]
  },
  {
   "cell_type": "code",
   "execution_count": 1,
   "metadata": {
    "ExecuteTime": {
     "end_time": "2020-05-27T13:32:48.598621Z",
     "start_time": "2020-05-27T13:32:46.690699Z"
    }
   },
   "outputs": [],
   "source": [
    "import numpy as np\n",
    "from scipy.spatial import distance\n",
    "from sklearn.neighbors import KNeighborsClassifier"
   ]
  },
  {
   "cell_type": "markdown",
   "metadata": {
    "ExecuteTime": {
     "end_time": "2020-05-27T09:53:40.044687Z",
     "start_time": "2020-05-27T09:53:37.768273Z"
    }
   },
   "source": [
    "## Distance between two vectors"
   ]
  },
  {
   "cell_type": "markdown",
   "metadata": {},
   "source": [
    "### Euclidean Distance"
   ]
  },
  {
   "cell_type": "code",
   "execution_count": 2,
   "metadata": {
    "ExecuteTime": {
     "end_time": "2020-05-27T13:32:48.611398Z",
     "start_time": "2020-05-27T13:32:48.601911Z"
    }
   },
   "outputs": [],
   "source": [
    "def euclidean_distance(v1, v2):\n",
    "    v1, v2 = np.array(v1), np.array(v2)\n",
    "    distance = 0\n",
    "    for i in range(len(v1)):\n",
    "        distance += (v1[i] - v2[i]) ** 2\n",
    "    return np.sqrt(distance)"
   ]
  },
  {
   "cell_type": "markdown",
   "metadata": {},
   "source": [
    "Testing the Euclidean Distance Function:"
   ]
  },
  {
   "cell_type": "code",
   "execution_count": 3,
   "metadata": {
    "ExecuteTime": {
     "end_time": "2020-05-27T13:32:48.630780Z",
     "start_time": "2020-05-27T13:32:48.620841Z"
    }
   },
   "outputs": [
    {
     "name": "stdout",
     "output_type": "stream",
     "text": [
      "The code works\n"
     ]
    }
   ],
   "source": [
    "vector1 = [1, 2, 3]\n",
    "vector2 = [1, 2, 3]\n",
    "vector3 = [4, 5, 6]\n",
    "\n",
    "#Testing it against the SciPy euclidean-Method\n",
    "if (distance.euclidean(vector1, vector2) == euclidean_distance(vector1, vector2) and\n",
    "    distance.euclidean(vector1, vector3) == euclidean_distance(vector1, vector3) and\n",
    "    distance.euclidean(vector2, vector3) == euclidean_distance(vector2, vector3)):\n",
    "    print(\"The code works\")\n",
    "    "
   ]
  },
  {
   "cell_type": "markdown",
   "metadata": {},
   "source": [
    "## Predict-Method"
   ]
  },
  {
   "cell_type": "markdown",
   "metadata": {},
   "source": [
    "### Parameters\n",
    "\n",
    "The following parameters are required in the KNN-Algorithm:\n",
    "- k for the amount of neighbors\n",
    "- train_set: Entire matrix with target variables\n",
    "- test_vector: single vector without target value."
   ]
  },
  {
   "cell_type": "markdown",
   "metadata": {},
   "source": [
    "### Steps\n",
    "  \n",
    "The following steps are required to implement the KNN:\n",
    "- Calculate the distance between the test_vector and every other point in the train_set\n",
    "- Sort the distances by distance value\n",
    "- Keep the distance of the k smallest ones\n",
    "- Get values of the target variable for k train_set rows with the smallest distance\n",
    "- Check which target variable wins"
   ]
  },
  {
   "cell_type": "markdown",
   "metadata": {},
   "source": [
    "### Implementation"
   ]
  },
  {
   "cell_type": "code",
   "execution_count": 4,
   "metadata": {
    "ExecuteTime": {
     "end_time": "2020-05-27T13:32:48.654489Z",
     "start_time": "2020-05-27T13:32:48.637835Z"
    }
   },
   "outputs": [],
   "source": [
    "def predict(train_set, test_vector, k):\n",
    "    distances = []\n",
    "    for i in range(len(train_set)):\n",
    "        distance = euclidean_distance(train_set[i][:-1], test_vector)\n",
    "        distances.append([train_set[i], distance])\n",
    "    #Sorting the list by distance:\n",
    "    distances.sort(key = lambda x: x[1])\n",
    "    neighbors = []\n",
    "    for i in range(k):\n",
    "        neighbors.append(distances[i][0])\n",
    "    classes = {}\n",
    "    for i in range(len(neighbors)):\n",
    "        target = neighbors[i][-1]\n",
    "        if target in classes:\n",
    "            classes[target] += 1\n",
    "        else:\n",
    "            classes[target] = 1\n",
    "    return_value = sorted(classes.items(), key = lambda x: x[1], reverse=True)\n",
    "    return return_value[0][0]"
   ]
  },
  {
   "cell_type": "code",
   "execution_count": 5,
   "metadata": {
    "ExecuteTime": {
     "end_time": "2020-05-27T13:32:48.677293Z",
     "start_time": "2020-05-27T13:32:48.658403Z"
    }
   },
   "outputs": [
    {
     "data": {
      "text/plain": [
       "0"
      ]
     },
     "execution_count": 5,
     "metadata": {},
     "output_type": "execute_result"
    }
   ],
   "source": [
    "train_set = [[1, 2, 3, 0], [4, 5, 6, 1], [4, 3, 7, 1], [2, 3, 3, 0]]\n",
    "test_vector = [1, 2, 3]\n",
    "\n",
    "predict(train_set, test_vector, 3)"
   ]
  },
  {
   "cell_type": "markdown",
   "metadata": {},
   "source": [
    "### Evaluation\n",
    "  \n",
    "We need to evaluate our results"
   ]
  },
  {
   "cell_type": "code",
   "execution_count": 6,
   "metadata": {
    "ExecuteTime": {
     "end_time": "2020-05-27T13:32:48.688111Z",
     "start_time": "2020-05-27T13:32:48.680757Z"
    }
   },
   "outputs": [],
   "source": [
    "def eval(y_target, y_pred):\n",
    "    n_correct = 0\n",
    "    for i in range(len(y_target)):\n",
    "        if y_target[i] == y_pred[i]:\n",
    "            n_correct += 1\n",
    "    return n_correct / len(y_target)"
   ]
  },
  {
   "cell_type": "code",
   "execution_count": 7,
   "metadata": {
    "ExecuteTime": {
     "end_time": "2020-05-27T13:32:48.704439Z",
     "start_time": "2020-05-27T13:32:48.695697Z"
    }
   },
   "outputs": [
    {
     "data": {
      "text/plain": [
       "0.3333333333333333"
      ]
     },
     "execution_count": 7,
     "metadata": {},
     "output_type": "execute_result"
    }
   ],
   "source": [
    "target = [0, 0, 1]\n",
    "prediction = [1, 1, 1]\n",
    "\n",
    "eval(target, prediction)"
   ]
  },
  {
   "cell_type": "markdown",
   "metadata": {},
   "source": [
    "# Testing with real data"
   ]
  },
  {
   "cell_type": "markdown",
   "metadata": {},
   "source": [
    "## The iris dataset"
   ]
  },
  {
   "cell_type": "code",
   "execution_count": 8,
   "metadata": {
    "ExecuteTime": {
     "end_time": "2020-05-27T13:32:49.672569Z",
     "start_time": "2020-05-27T13:32:48.709819Z"
    },
    "scrolled": true
   },
   "outputs": [
    {
     "data": {
      "text/html": [
       "<div>\n",
       "<style scoped>\n",
       "    .dataframe tbody tr th:only-of-type {\n",
       "        vertical-align: middle;\n",
       "    }\n",
       "\n",
       "    .dataframe tbody tr th {\n",
       "        vertical-align: top;\n",
       "    }\n",
       "\n",
       "    .dataframe thead th {\n",
       "        text-align: right;\n",
       "    }\n",
       "</style>\n",
       "<table border=\"1\" class=\"dataframe\">\n",
       "  <thead>\n",
       "    <tr style=\"text-align: right;\">\n",
       "      <th></th>\n",
       "      <th>sepal length (cm)</th>\n",
       "      <th>sepal width (cm)</th>\n",
       "      <th>petal length (cm)</th>\n",
       "      <th>petal width (cm)</th>\n",
       "      <th>class</th>\n",
       "    </tr>\n",
       "  </thead>\n",
       "  <tbody>\n",
       "    <tr>\n",
       "      <th>0</th>\n",
       "      <td>5.1</td>\n",
       "      <td>3.5</td>\n",
       "      <td>1.4</td>\n",
       "      <td>0.2</td>\n",
       "      <td>0</td>\n",
       "    </tr>\n",
       "    <tr>\n",
       "      <th>1</th>\n",
       "      <td>4.9</td>\n",
       "      <td>3.0</td>\n",
       "      <td>1.4</td>\n",
       "      <td>0.2</td>\n",
       "      <td>0</td>\n",
       "    </tr>\n",
       "    <tr>\n",
       "      <th>2</th>\n",
       "      <td>4.7</td>\n",
       "      <td>3.2</td>\n",
       "      <td>1.3</td>\n",
       "      <td>0.2</td>\n",
       "      <td>0</td>\n",
       "    </tr>\n",
       "    <tr>\n",
       "      <th>3</th>\n",
       "      <td>4.6</td>\n",
       "      <td>3.1</td>\n",
       "      <td>1.5</td>\n",
       "      <td>0.2</td>\n",
       "      <td>0</td>\n",
       "    </tr>\n",
       "    <tr>\n",
       "      <th>4</th>\n",
       "      <td>5.0</td>\n",
       "      <td>3.6</td>\n",
       "      <td>1.4</td>\n",
       "      <td>0.2</td>\n",
       "      <td>0</td>\n",
       "    </tr>\n",
       "  </tbody>\n",
       "</table>\n",
       "</div>"
      ],
      "text/plain": [
       "   sepal length (cm)  sepal width (cm)  petal length (cm)  petal width (cm)  \\\n",
       "0                5.1               3.5                1.4               0.2   \n",
       "1                4.9               3.0                1.4               0.2   \n",
       "2                4.7               3.2                1.3               0.2   \n",
       "3                4.6               3.1                1.5               0.2   \n",
       "4                5.0               3.6                1.4               0.2   \n",
       "\n",
       "   class  \n",
       "0      0  \n",
       "1      0  \n",
       "2      0  \n",
       "3      0  \n",
       "4      0  "
      ]
     },
     "execution_count": 8,
     "metadata": {},
     "output_type": "execute_result"
    }
   ],
   "source": [
    "import pandas as pd\n",
    "from sklearn.datasets import load_iris\n",
    "\n",
    "iris_dataset = load_iris()\n",
    "Y_iris = iris_dataset.target\n",
    "iris_dataset = pd.DataFrame(iris_dataset.data, columns=iris_dataset.feature_names)\n",
    "iris_dataset = pd.concat([iris_dataset, pd.Series(Y_iris)], axis=1)\n",
    "iris_dataset.rename(columns={0: \"class\"}, inplace=True)\n",
    "iris_dataset.head(5)"
   ]
  },
  {
   "cell_type": "code",
   "execution_count": 9,
   "metadata": {
    "ExecuteTime": {
     "end_time": "2020-05-27T13:32:50.770968Z",
     "start_time": "2020-05-27T13:32:49.687759Z"
    }
   },
   "outputs": [
    {
     "data": {
      "text/plain": [
       "<matplotlib.axes._subplots.AxesSubplot at 0x1a1bb2d950>"
      ]
     },
     "execution_count": 9,
     "metadata": {},
     "output_type": "execute_result"
    },
    {
     "data": {
      "image/png": "[encoded data removed]",
      "text/plain": [
       "<Figure size 432x288 with 1 Axes>"
      ]
     },
     "metadata": {
      "needs_background": "light"
     },
     "output_type": "display_data"
    }
   ],
   "source": [
    "import seaborn as sns\n",
    "import matplotlib.pyplot as plt\n",
    "\n",
    "sns.scatterplot(x=\"sepal length (cm)\", y=\"sepal width (cm)\", hue=\"class\", data=iris_dataset, palette=\"Set2\")"
   ]
  },
  {
   "cell_type": "code",
   "execution_count": 10,
   "metadata": {
    "ExecuteTime": {
     "end_time": "2020-05-27T13:32:50.998360Z",
     "start_time": "2020-05-27T13:32:50.776705Z"
    }
   },
   "outputs": [
    {
     "data": {
      "text/plain": [
       "<matplotlib.axes._subplots.AxesSubplot at 0x1a1c898090>"
      ]
     },
     "execution_count": 10,
     "metadata": {},
     "output_type": "execute_result"
    },
    {
     "data": {
      "image/png": "[encoded data removed]",
      "text/plain": [
       "<Figure size 432x288 with 1 Axes>"
      ]
     },
     "metadata": {
      "needs_background": "light"
     },
     "output_type": "display_data"
    }
   ],
   "source": [
    "sns.scatterplot(x=\"petal length (cm)\", y=\"petal width (cm)\", hue=\"class\", data=iris_dataset, palette=\"Set2\")"
   ]
  },
  {
   "cell_type": "code",
   "execution_count": 11,
   "metadata": {
    "ExecuteTime": {
     "end_time": "2020-05-27T13:32:52.136803Z",
     "start_time": "2020-05-27T13:32:51.002729Z"
    }
   },
   "outputs": [
    {
     "data": {
      "image/png": "[encoded data removed]",
      "text/plain": [
       "<Figure size 690.375x216 with 3 Axes>"
      ]
     },
     "metadata": {
      "needs_background": "light"
     },
     "output_type": "display_data"
    },
    {
     "data": {
      "image/png": "[encoded data removed]",
      "text/plain": [
       "<Figure size 690.375x216 with 3 Axes>"
      ]
     },
     "metadata": {
      "needs_background": "light"
     },
     "output_type": "display_data"
    }
   ],
   "source": [
    "g1 = sns.FacetGrid(iris_dataset, col=\"class\", hue=\"class\")\n",
    "g1.map(plt.scatter, \"sepal width (cm)\", \"sepal length (cm)\", alpha=.7)\n",
    "g1.add_legend();\n",
    "\n",
    "g2 = sns.FacetGrid(iris_dataset, col=\"class\", hue=\"class\")\n",
    "g2.map(plt.scatter, \"petal width (cm)\", \"petal length (cm)\", alpha=.7)\n",
    "g2.add_legend();\n"
   ]
  },
  {
   "cell_type": "markdown",
   "metadata": {},
   "source": [
    "## Train-Test Split\n",
    "  \n",
    "To further test the builded model, we need a function to split a given dataset in testing and training data."
   ]
  },
  {
   "cell_type": "code",
   "execution_count": 12,
   "metadata": {
    "ExecuteTime": {
     "end_time": "2020-05-27T13:32:52.177523Z",
     "start_time": "2020-05-27T13:32:52.139743Z"
    }
   },
   "outputs": [],
   "source": [
    "def test_train_split(dataset, test_set_size=0.25):\n",
    "    n_test_set = int(test_set_size * len(dataset))\n",
    "    test_set = dataset.sample(n_test_set)\n",
    "    train_set = []\n",
    "    for index in dataset.index:\n",
    "        if index in test_set.index:\n",
    "            continue\n",
    "        train_set.append(dataset.iloc[index])\n",
    "    \n",
    "    train_set = pd.DataFrame(train_set).astype(float).values.tolist()\n",
    "    test_set = test_set.astype(float).values.tolist()\n",
    "    \n",
    "    return train_set, test_set\n",
    "\n",
    "train_set, test_set = test_train_split(iris_dataset, .25)\n",
    "\n",
    "#print(train_set)\n",
    "#print(test_set)"
   ]
  },
  {
   "cell_type": "markdown",
   "metadata": {},
   "source": [
    "## The actual test"
   ]
  },
  {
   "cell_type": "code",
   "execution_count": 13,
   "metadata": {
    "ExecuteTime": {
     "end_time": "2020-05-27T13:32:52.232018Z",
     "start_time": "2020-05-27T13:32:52.179956Z"
    }
   },
   "outputs": [
    {
     "data": {
      "text/plain": [
       "0.972972972972973"
      ]
     },
     "execution_count": 13,
     "metadata": {},
     "output_type": "execute_result"
    }
   ],
   "source": [
    "# Getting the test_dataset\n",
    "test_set_results = []\n",
    "for row in test_set:\n",
    "    without_target = row[:-1]\n",
    "    prediction = predict(train_set, without_target, 3)\n",
    "    test_set_results.append(prediction)\n",
    "\n",
    "actual_target = np.array(test_set)[:, -1]\n",
    "eval(actual_target, test_set_results)"
   ]
  },
  {
   "cell_type": "markdown",
   "metadata": {},
   "source": [
    "## Finding best k"
   ]
  },
  {
   "cell_type": "code",
   "execution_count": 14,
   "metadata": {
    "ExecuteTime": {
     "end_time": "2020-05-27T13:32:52.650054Z",
     "start_time": "2020-05-27T13:32:52.235076Z"
    }
   },
   "outputs": [
    {
     "name": "stdout",
     "output_type": "stream",
     "text": [
      "[(1, 0.972972972972973), (3, 0.972972972972973), (5, 0.972972972972973), (7, 0.9459459459459459), (9, 0.9459459459459459), (11, 0.9459459459459459), (13, 0.9459459459459459), (15, 0.918918918918919), (17, 0.9459459459459459), (19, 0.918918918918919)]\n"
     ]
    }
   ],
   "source": [
    "different_ks = []\n",
    "\n",
    "for k in range(1, 20, 2):\n",
    "    test_set_results = []\n",
    "    for row in test_set:\n",
    "        without_target = row[:-1]\n",
    "        prediction = predict(train_set, without_target, k)\n",
    "        test_set_results.append(prediction)\n",
    "    actual_target = np.array(test_set)[:, -1]\n",
    "    different_ks.append((k, eval(actual_target, test_set_results)))\n",
    "\n",
    "\n",
    "\n",
    "print(different_ks)"
   ]
  },
  {
   "cell_type": "code",
   "execution_count": null,
   "metadata": {},
   "outputs": [],
   "source": []
  }
 ],
 "metadata": {
  "kernelspec": {
   "display_name": "Python 3",
   "language": "python",
   "name": "python3"
  },
  "language_info": {
   "codemirror_mode": {
    "name": "ipython",
    "version": 3
   },
   "file_extension": ".py",
   "mimetype": "text/x-python",
   "name": "python",
   "nbconvert_exporter": "python",
   "pygments_lexer": "ipython3",
   "version": "3.7.6"
  },
  "toc": {
   "base_numbering": 1,
   "nav_menu": {},
   "number_sections": true,
   "sideBar": true,
   "skip_h1_title": false,
   "title_cell": "Table of Contents",
   "title_sidebar": "Contents",
   "toc_cell": false,
   "toc_position": {},
   "toc_section_display": true,
   "toc_window_display": false
  },
  "varInspector": {
   "cols": {
    "lenName": 16,
    "lenType": 16,
    "lenVar": 40
   },
   "kernels_config": {
    "python": {
     "delete_cmd_postfix": "",
     "delete_cmd_prefix": "del ",
     "library": "var_list.py",
     "varRefreshCmd": "print(var_dic_list())"
    },
    "r": {
     "delete_cmd_postfix": ") ",
     "delete_cmd_prefix": "rm(",
     "library": "var_list.r",
     "varRefreshCmd": "cat(var_dic_list()) "
    }
   },
   "types_to_exclude": [
    "module",
    "function",
    "builtin_function_or_method",
    "instance",
    "_Feature"
   ],
   "window_display": false
  }
 },
 "nbformat": 4,
 "nbformat_minor": 4
}
